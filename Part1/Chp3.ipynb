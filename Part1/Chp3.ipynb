{
 "cells": [
  {
   "cell_type": "markdown",
   "metadata": {},
   "source": [
    "### Name: Veerappan Saravanan"
   ]
  },
  {
   "cell_type": "code",
   "execution_count": 1,
   "metadata": {
    "scrolled": true
   },
   "outputs": [
    {
     "name": "stdout",
     "output_type": "stream",
     "text": [
      "Requirement already satisfied: pandas in /usr/local/lib/python3.6/site-packages\n",
      "Requirement already satisfied: pytz>=2011k in /usr/local/lib/python3.6/site-packages (from pandas)\n",
      "Requirement already satisfied: python-dateutil>=2 in /usr/local/lib/python3.6/site-packages (from pandas)\n",
      "Requirement already satisfied: numpy>=1.9.0 in /usr/local/lib/python3.6/site-packages (from pandas)\n",
      "Requirement already satisfied: six>=1.5 in /usr/local/lib/python3.6/site-packages (from python-dateutil>=2->pandas)\n",
      "\u001b[33mYou are using pip version 9.0.1, however version 9.0.3 is available.\n",
      "You should consider upgrading via the 'pip install --upgrade pip' command.\u001b[0m\n"
     ]
    }
   ],
   "source": [
    "import sys\n",
    "!{sys.executable} -m pip install pandas"
   ]
  },
  {
   "cell_type": "code",
   "execution_count": 2,
   "metadata": {},
   "outputs": [
    {
     "name": "stdout",
     "output_type": "stream",
     "text": [
      "Hello World!\n"
     ]
    }
   ],
   "source": [
    "#hello world\n",
    "print (\"Hello World!\")"
   ]
  },
  {
   "cell_type": "code",
   "execution_count": 3,
   "metadata": {},
   "outputs": [
    {
     "name": "stdout",
     "output_type": "stream",
     "text": [
      "Susan now lives in Washington\n",
      "   and makes $105000.0\n",
      "Ellen now lives in Texas\n",
      "   and makes $78750.0\n"
     ]
    }
   ],
   "source": [
    "#Objects and Arrays\n",
    "\n",
    "SALARY_RAISE_FACTOR = 0.05\n",
    "STATE_CODE_MAP = {'WA': 'Washington', 'TX': 'Texas'}\n",
    "def update_employee_record(rec):\n",
    "    old_sal = rec['salary']\n",
    "    new_sal = old_sal * (1 + SALARY_RAISE_FACTOR)\n",
    "    rec['salary'] = new_sal\n",
    "    state_code = rec['state_code']\n",
    "    rec['state_name'] = STATE_CODE_MAP[state_code]\n",
    "input_data = [\n",
    "    {'employee_name': 'Susan', 'salary': 100000.0,\n",
    "     'state_code': 'WA'},\n",
    "    {'employee_name': 'Ellen', 'salary': 75000.0,\n",
    "     'state_code': 'TX'},\n",
    "]\n",
    "for rec in input_data:\n",
    "    update_employee_record(rec)\n",
    "    name = rec['employee_name']\n",
    "    salary = rec['salary']\n",
    "    state = rec['state_name']\n",
    "    print (name + ' now lives in ' + state)\n",
    "    print ('   and makes $' + str(salary))"
   ]
  },
  {
   "cell_type": "code",
   "execution_count": 4,
   "metadata": {},
   "outputs": [
    {
     "name": "stdout",
     "output_type": "stream",
     "text": [
      "2 5 2.0 True False True False\n",
      "test  test's\n",
      " It’s common to use triple quoted strings for things such as large pieces of text that are embedded in your code\n",
      "(say, some HTML that you’re using a lot because your script is writing an HTML document).\n"
     ]
    }
   ],
   "source": [
    "#Datatypes\n",
    "\n",
    "my_integer = 2\n",
    "my_other_integer = 2 + 3\n",
    "my_float = 2.0\n",
    "my_true_bool = True\n",
    "my_false_bool = False\n",
    "this_is_true = (0 < 100)\n",
    "this_is_false = (0 > 100)\n",
    "print(my_integer,my_other_integer,my_float,my_true_bool,my_false_bool,this_is_true,this_is_false)\n",
    "\n",
    "#Strings\n",
    "one_string = \"test\"\n",
    "empty_string = \"\"\n",
    "single_string = \"test's\"\n",
    "\n",
    "#Multiline\n",
    "multi_line = \"\"\" It’s common to use triple quoted strings for things such as large pieces of text that are embedded in your code\n",
    "(say, some HTML that you’re using a lot because your script is writing an HTML document).\"\"\"\n",
    "\n",
    "print(one_string,empty_string,single_string)\n",
    "print(multi_line)\n"
   ]
  },
  {
   "cell_type": "code",
   "execution_count": 5,
   "metadata": {},
   "outputs": [
    {
     "name": "stdout",
     "output_type": "stream",
     "text": [
      "a  b  c \n",
      "['a ', 'b ', 'c ']\n",
      "{'c ', 'a ', 'b '}\n",
      "('a ', 'b ', 'c ')\n"
     ]
    }
   ],
   "source": [
    "#Complex data structures\n",
    "my_list = [\"a \", \"b \", \"c \"]\n",
    "one,two,three = my_list\n",
    "print(one,two,three)\n",
    "my_set = set(my_list)\n",
    "my_tuple = tuple(my_list)\n",
    "print(my_list)\n",
    "print(my_set)\n",
    "print(my_tuple)"
   ]
  },
  {
   "cell_type": "code",
   "execution_count": 6,
   "metadata": {},
   "outputs": [
    {
     "name": "stdout",
     "output_type": "stream",
     "text": [
      "True\n",
      "a\n",
      "4\n",
      "['A ', 'b ', 'c ', 'd']\n",
      "['A ', 5.7, 'B ', [1, 2, 3]]\n",
      "[1, 4, 9, 16, 25, 36, 49, 64]\n",
      "[4, 16, 36, 64]\n",
      "['b', 'c']\n",
      "['a', 'b']\n",
      "['b', 'c']\n",
      "['a', 'b']\n",
      "['A tuple is conceptually a list that cannot be modified ', 'no changing the ele- ments, no adding/removing elements)']\n",
      "['A tuple is conceptually a list that cannot be modified ', 'no changing the ele- ments, no adding/removing elements)', 'sample']\n",
      "A tuple is conceptually a list that cannot be modified  no changing the ele- ments, no adding/removing elements) sample\n"
     ]
    }
   ],
   "source": [
    "#List\n",
    "\n",
    "my_list = [\"a\", \"b \", \"c \"]\n",
    "print(\"a\" in my_list)\n",
    "print (my_list[0])\n",
    "my_list[0] = \"A \"\n",
    "my_list.append(\"d\")\n",
    "print(len(my_list))\n",
    "print(my_list)\n",
    "\n",
    "# List elements can be ANYTHING\n",
    "mixed_list = [\"A \", 5.7, \"B \", [1,2,3]]\n",
    "print(mixed_list)\n",
    "\n",
    "#Opeations on list\n",
    "original_list = [1,2,3,4,5,6,7,8]\n",
    "squares = [x*x for x in original_list]\n",
    "squares_of_evens = [x*x for x in original_list if x%2==0]\n",
    "print(squares)\n",
    "print(squares_of_evens)\n",
    "\n",
    "my_list = [\"a\", \"b\", \"c\"]\n",
    "range_elements = my_list[1:3]\n",
    "first_two_elements = my_list[:2]\n",
    "last_two_elements = my_list[1:]\n",
    "all_but_last_element = my_list[:-1]\n",
    "print(range_elements)\n",
    "print(first_two_elements)\n",
    "print(last_two_elements)\n",
    "print(all_but_last_element)\n",
    "\n",
    "#strings and list\n",
    "test_string = \"A tuple is conceptually a list that cannot be modified (no changing the ele- ments, no adding/removing elements)\"\n",
    "sample_list = test_string.split('(')\n",
    "print(sample_list)\n",
    "sample_list.append(\"sample\")\n",
    "print(sample_list)\n",
    "final_string = \" \".join(sample_list)\n",
    "print(final_string)"
   ]
  },
  {
   "cell_type": "code",
   "execution_count": 7,
   "metadata": {},
   "outputs": [
    {
     "name": "stdout",
     "output_type": "stream",
     "text": [
      "1\n",
      "a\n",
      "1\n",
      "2.5\n"
     ]
    }
   ],
   "source": [
    "#Tupels - Not modifiable\n",
    "my_tuple = (\"a\",1,2.5)\n",
    "print(my_tuple[1])\n",
    "one, two, three = my_tuple\n",
    "print(one)\n",
    "print(two)\n",
    "print(three)"
   ]
  },
  {
   "cell_type": "code",
   "execution_count": 8,
   "metadata": {},
   "outputs": [
    {
     "name": "stdout",
     "output_type": "stream",
     "text": [
      "1\n",
      "[('one', 1), ('two', 2)]\n",
      "{'one': 1, 'two': 2}\n",
      "dict_items([('one', 1), ('two', 2)])\n"
     ]
    }
   ],
   "source": [
    "#Dictionary\n",
    "\n",
    "my_dict = {\"January\": 1, \"February\":2}\n",
    "print (my_dict[\"January\"])\n",
    "pairs = [(\"one\",1), (\"two\",2)]\n",
    "print(pairs)\n",
    "as_dict = dict(pairs)\n",
    "print(as_dict)\n",
    "same_as_pairs = as_dict.items()\n",
    "print(same_as_pairs)"
   ]
  },
  {
   "cell_type": "code",
   "execution_count": 9,
   "metadata": {},
   "outputs": [
    {
     "name": "stdout",
     "output_type": "stream",
     "text": [
      "{'1', '9', '3'}\n",
      "True\n",
      "False\n"
     ]
    }
   ],
   "source": [
    "#Sets\n",
    "my_list = [\"3\",\"1\",\"9\"]\n",
    "s = set()\n",
    "s1 = set(my_list)\n",
    "print(s1)\n",
    "print(\"9\" in s1)\n",
    "print(9 in s1)"
   ]
  },
  {
   "cell_type": "code",
   "execution_count": 10,
   "metadata": {},
   "outputs": [
    {
     "name": "stdout",
     "output_type": "stream",
     "text": [
      "25\n",
      "9\n",
      "[4, 16]\n"
     ]
    }
   ],
   "source": [
    "#Functions \n",
    "def my_function(x):\n",
    "    y = x+1\n",
    "    x_sqrd = x*x\n",
    "    return x_sqrd\n",
    "\n",
    "def squ(x, n=2):\n",
    "    return pow(x,n)\n",
    "\n",
    "five_plus_one_sqrd = my_function(5)\n",
    "print(five_plus_one_sqrd)\n",
    "print(squ(9,1))\n",
    "\n",
    "#Lamda\n",
    "def apply_to_evens(a_list, a_func):\n",
    "    return [a_func(x) for x in a_list if x%2==0]\n",
    "my_list = [1,2,3,4,5]\n",
    "sqrs_of_evens = apply_to_evens(my_list, lambda x:x*x)\n",
    "print(sqrs_of_evens)"
   ]
  },
  {
   "cell_type": "code",
   "execution_count": 11,
   "metadata": {},
   "outputs": [
    {
     "name": "stdout",
     "output_type": "stream",
     "text": [
      "the number is  1\n",
      "the number is  2\n",
      "the number is  3\n",
      "the value for  January  is  1\n",
      "the value for  February  is  2\n"
     ]
    }
   ],
   "source": [
    "#looping\n",
    "my_list = [1, 2, 3]\n",
    "for x in my_list:\n",
    "     print (\"the number is \", x)\n",
    "my_dict = {\"January\": 1, \"February\":2}\n",
    "for key, value in my_dict.items():\n",
    "     print (\"the value for \", key, \" is \", value)\n"
   ]
  },
  {
   "cell_type": "code",
   "execution_count": 12,
   "metadata": {},
   "outputs": [
    {
     "name": "stdout",
     "output_type": "stream",
     "text": [
      "No such element\n"
     ]
    }
   ],
   "source": [
    "#exception\n",
    "mylist = [\"1\"]\n",
    "try:\n",
    "    print(mylist[1])\n",
    "except:\n",
    "    print(\"No such element\")"
   ]
  },
  {
   "cell_type": "code",
   "execution_count": 13,
   "metadata": {},
   "outputs": [
    {
     "name": "stdout",
     "output_type": "stream",
     "text": [
      "bark bark!!\n",
      "test\n"
     ]
    }
   ],
   "source": [
    "class Dog:\n",
    "    def __init__(self, name, test):  \n",
    "        self.name = name\n",
    "        self.testname = test\n",
    "    def respond_to_command(self, command):\n",
    "        if command == self.name: self.speak()\n",
    "    def speak(self):\n",
    "        print (\"bark bark!!\")\n",
    "        print (self.testname)\n",
    "fido = Dog(\"fido\",\"test\")\n",
    "fido.respond_to_command(\"spot\") \n",
    "fido.respond_to_command(\"fido\") "
   ]
  },
  {
   "cell_type": "code",
   "execution_count": 14,
   "metadata": {},
   "outputs": [
    {
     "name": "stdout",
     "output_type": "stream",
     "text": [
      "   age    name\n",
      "0   60     Bob\n",
      "1   25    Alex\n",
      "2   33  Janice\n",
      "0    1\n",
      "1    2\n",
      "2    3\n",
      "dtype: int64\n",
      "0    1\n",
      "1    2\n",
      "2    3\n",
      "dtype: int64\n"
     ]
    }
   ],
   "source": [
    "#packages and data frames\n",
    "import pandas as pd\n",
    "# Making data frame from a dictionary\n",
    "# that maps column names to their values\n",
    "df = pd.DataFrame({\n",
    "  \"name\": [\"Bob\", \"Alex\", \"Janice\"],\n",
    "  \"age\": [60, 25, 33]\n",
    "  })\n",
    "# Reading a DataFrame from a file\n",
    "\n",
    "# Making new columns from old ones\n",
    "# is really easy\n",
    "print(df)\n",
    "\n",
    "s = pd.Series([1,2,3])\n",
    "print(s)\n",
    "s + pd.Series([4,4,5])\n",
    "print(s)\n"
   ]
  },
  {
   "cell_type": "code",
   "execution_count": null,
   "metadata": {},
   "outputs": [],
   "source": []
  }
 ],
 "metadata": {
  "kernelspec": {
   "display_name": "Python 3",
   "language": "python",
   "name": "python3"
  },
  "language_info": {
   "codemirror_mode": {
    "name": "ipython",
    "version": 3
   },
   "file_extension": ".py",
   "mimetype": "text/x-python",
   "name": "python",
   "nbconvert_exporter": "python",
   "pygments_lexer": "ipython3",
   "version": "3.6.5"
  }
 },
 "nbformat": 4,
 "nbformat_minor": 2
}
