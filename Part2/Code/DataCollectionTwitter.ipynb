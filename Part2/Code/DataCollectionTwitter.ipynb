{
 "cells": [
  {
   "cell_type": "markdown",
   "metadata": {},
   "source": [
    "### Name: Veerappan Saravanan"
   ]
  },
  {
   "cell_type": "code",
   "execution_count": 1,
   "metadata": {},
   "outputs": [
    {
     "name": "stdout",
     "output_type": "stream",
     "text": [
      "[1] \"Using direct authentication\"\n"
     ]
    }
   ],
   "source": [
    "# Collect Tweets\n",
    "library(twitteR)\n",
    "consumer_key <- \"Binqmp6m2gBhf0xGMwHC8y6Dz\"\n",
    "consumer_secret <- \"hN2YYXrtCHZyLjYN28JcGj1UEHygY2EMrJ4UIEMdntO5WreH1O\"\n",
    "access_token <- \"877850572681916416-BMA9IPreObacxE02eyqXUuJJquQGrHL\"\n",
    "access_secret <- \"orseSD4oKKeRd0AywUB91bA2eePixsI5ht4nRu9YwxCT4\"\n",
    "setup_twitter_oauth(consumer_key, consumer_secret, access_token, access_secret)"
   ]
  },
  {
   "cell_type": "code",
   "execution_count": 3,
   "metadata": {},
   "outputs": [],
   "source": [
    "tweet_key <- c(\"blockchain\",\"ethereum\",\"r3 corda\",\"bitcoin\",\"hyperledger\",\"crypto\",\"initial coin offering\", \"ether\", \"dapp\", \"litecoin\")\n"
   ]
  },
  {
   "cell_type": "code",
   "execution_count": 43,
   "metadata": {
    "scrolled": true
   },
   "outputs": [
    {
     "name": "stdout",
     "output_type": "stream",
     "text": [
      "[1] \"Rate limited .... blocking for a minute and retrying up to 119 times ...\"\n",
      "[1] \"Rate limited .... blocking for a minute and retrying up to 118 times ...\"\n",
      "[1] \"Rate limited .... blocking for a minute and retrying up to 117 times ...\"\n",
      "[1] \"Rate limited .... blocking for a minute and retrying up to 116 times ...\"\n",
      "[1] \"Rate limited .... blocking for a minute and retrying up to 115 times ...\"\n",
      "[1] \"Rate limited .... blocking for a minute and retrying up to 114 times ...\"\n",
      "[1] \"Rate limited .... blocking for a minute and retrying up to 113 times ...\"\n",
      "[1] \"Rate limited .... blocking for a minute and retrying up to 112 times ...\"\n",
      "[1] \"Rate limited .... blocking for a minute and retrying up to 111 times ...\"\n",
      "[1] \"Rate limited .... blocking for a minute and retrying up to 110 times ...\"\n",
      "[1] \"Rate limited .... blocking for a minute and retrying up to 109 times ...\"\n"
     ]
    }
   ],
   "source": [
    "for (i in 1:length(tweet_key)) {\n",
    "    db2 <- RSQLite::datasetsDb() # Initialie a database\n",
    "    register_db_backend(db2) #Functions to setup a database backend for twitteR\n",
    "    sql_lite_file=tweet_key[i] #path to db file\n",
    "    register_sqlite_backend(sql_lite_file)  #create the DBI connection and call register_db_backend\n",
    "    tweetresult <- unclass(search_twitter_and_store(searchString = tweet_key[i],lang = 'en', retryOnRateLimit = 120)[[1]])\n",
    "}\n",
    "    "
   ]
  },
  {
   "cell_type": "code",
   "execution_count": null,
   "metadata": {},
   "outputs": [],
   "source": []
  },
  {
   "cell_type": "code",
   "execution_count": null,
   "metadata": {},
   "outputs": [],
   "source": []
  },
  {
   "cell_type": "code",
   "execution_count": null,
   "metadata": {},
   "outputs": [],
   "source": []
  },
  {
   "cell_type": "code",
   "execution_count": null,
   "metadata": {},
   "outputs": [],
   "source": []
  },
  {
   "cell_type": "code",
   "execution_count": null,
   "metadata": {},
   "outputs": [],
   "source": [
    "db2 <- RSQLite::datasetsDb() # Initialie a database\n",
    "    register_db_backend(db2) #Functions to setup a database backend for twitteR\n",
    "    sql_lite_file=tweet_key[i] #path to db file\n",
    "    register_sqlite_backend(sql_lite_file)  #create the DBI connection and call register_db_backend\n",
    "    tweetresult <- unclass(search_twitter_and_store(searchString = tweet_key[i],lang = 'en', retryOnRateLimit = 120)[[1]])"
   ]
  },
  {
   "cell_type": "code",
   "execution_count": null,
   "metadata": {},
   "outputs": [],
   "source": [
    "# SAVE TWEETS IN Text\n",
    "# bitcoin blockchain ethereum hyperledger r3 corda crypto dapp ether ico litecoin\n",
    "mydata = read.csv(\"sqlLite/litecoin.csv\")\n",
    "tweets = mydata$text\n",
    "write.table(tweets, \"litecoin.txt\",quote = FALSE, row.names = FALSE, col.names = FALSE)"
   ]
  }
 ],
 "metadata": {
  "kernelspec": {
   "display_name": "R",
   "language": "R",
   "name": "ir"
  },
  "language_info": {
   "codemirror_mode": "r",
   "file_extension": ".r",
   "mimetype": "text/x-r-source",
   "name": "R",
   "pygments_lexer": "r",
   "version": "3.4.3"
  }
 },
 "nbformat": 4,
 "nbformat_minor": 2
}
